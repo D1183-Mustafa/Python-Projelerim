{
 "cells": [
  {
   "cell_type": "code",
   "execution_count": 63,
   "id": "b3208068",
   "metadata": {},
   "outputs": [
    {
     "name": "stdout",
     "output_type": "stream",
     "text": [
      "Lütfen 0-9 arası sayı giriniz : 6\n",
      "Lütfen 0-9 arası sayı giriniz : 1\n",
      "Lütfen 0-9 arası sayı giriniz : 7\n",
      "Lütfen 0-9 arası sayı giriniz : 6\n",
      "Lütfen 0-9 arası sayı giriniz : 1\n",
      "Lütfen 0-9 arası sayı giriniz : 7\n",
      "Lütfen para miktarını giriniz : 100\n",
      "[1, 1, 4, 5, 7, 9]\n"
     ]
    },
    {
     "data": {
      "text/plain": [
       "200"
      ]
     },
     "execution_count": 63,
     "metadata": {},
     "output_type": "execute_result"
    }
   ],
   "source": [
    "import random\n",
    "\n",
    "\n",
    "sayac = 1\n",
    "liste = []\n",
    "while sayac <= 6:\n",
    "    liste.append(random.randint(0,9))\n",
    "    sayac += 1\n",
    "liste.sort()\n",
    "##########################################################\n",
    "biletim = []\n",
    "sayac1 = 1\n",
    "while sayac1 <= 6:\n",
    "    n = int(input(\"Lütfen 0-9 arası sayı giriniz : \"))\n",
    "    biletim.append(n)\n",
    "    sayac1 += 1\n",
    "\n",
    "para = int(input(\"Lütfen para miktarını giriniz : \"))\n",
    "##########################################################\n",
    "def piyango(bilet, para):\n",
    "    sayac2 = 0\n",
    "    for i in biletim:\n",
    "        if i in liste:\n",
    "            sayac2 += 1\n",
    "            liste.remove(i)\n",
    "        \n",
    "        \n",
    "    if sayac2 == 2:\n",
    "        return para * 1\n",
    "    elif sayac2 == 3:\n",
    "        return para * 2\n",
    "    elif sayac2 == 4:\n",
    "        return para * 5\n",
    "    elif sayac2 == 5:\n",
    "        return para * 30\n",
    "    elif sayac2 == 6:\n",
    "        return para * 200\n",
    "    else:\n",
    "        return \"Kazanamadınız !!!\"\n",
    "#################################################\n",
    "\n",
    "\n",
    "print(liste)\n",
    "piyango(biletim,para)"
   ]
  }
 ],
 "metadata": {
  "kernelspec": {
   "display_name": "Python 3",
   "language": "python",
   "name": "python3"
  },
  "language_info": {
   "codemirror_mode": {
    "name": "ipython",
    "version": 3
   },
   "file_extension": ".py",
   "mimetype": "text/x-python",
   "name": "python",
   "nbconvert_exporter": "python",
   "pygments_lexer": "ipython3",
   "version": "3.8.8"
  }
 },
 "nbformat": 4,
 "nbformat_minor": 5
}
