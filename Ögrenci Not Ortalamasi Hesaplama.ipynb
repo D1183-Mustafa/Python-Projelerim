{
 "cells": [
  {
   "cell_type": "code",
   "execution_count": 37,
   "id": "2e489aaf",
   "metadata": {},
   "outputs": [
    {
     "name": "stdout",
     "output_type": "stream",
     "text": [
      "Lütfen Öncelikle Öğrencilerin adını giriniz : (Tamam yazana kadar giriniz!)\n",
      "Lütfen öğrenci isimlerini giriniz : asdsadsad\n",
      "Lütfen öğrenci isimlerini giriniz : teer\n",
      "Lütfen öğrenci isimlerini giriniz : tamam\n",
      "\n",
      "---->>>asdsadsad için sınav notlarını giriniz!!!\n",
      "Matematik : 34\n",
      "İngilizce : 234\n",
      "Coğrafya  : 234\n",
      "Kimya     : 234\n",
      "Fizik     : 234\n",
      "Tebrikler asdsadsad not ortalamanız : 194.0 'AA' ve Onur belgesini almaya hak kazandınız!\n",
      "\n",
      "---->>>teer için sınav notlarını giriniz!!!\n",
      "Matematik : 234\n",
      "İngilizce : 234\n",
      "Coğrafya  : 234\n",
      "Kimya     : 324\n",
      "Fizik     : 234\n",
      "Tebrikler teer not ortalamanız : 252.0 'AA' ve Onur belgesini almaya hak kazandınız!\n",
      "\n",
      "\n",
      "\n",
      "Dönem sonu öğrenci listesi:: {'asdsadsad': 194.0, 'teer': 252.0}\n"
     ]
    }
   ],
   "source": [
    "print(\"Lütfen Öncelikle Öğrencilerin adını giriniz : (Tamam yazana kadar giriniz!)\")\n",
    "öğr_list = []\n",
    "öğr_dict = {}\n",
    "while True:\n",
    "    öğrenci_ismi = input(\"Lütfen öğrenci isimlerini giriniz : \")\n",
    "    if öğrenci_ismi.title() == \"Tamam\":\n",
    "        break\n",
    "    öğr_list.append(öğrenci_ismi)\n",
    "\n",
    "for i in öğr_list:\n",
    "    print(\"\")\n",
    "    print(f\"---->>>{i} için sınav notlarını giriniz!!!\")\n",
    "    mat = float(input(\"Matematik : \"))\n",
    "    ing = float(input(\"İngilizce : \"))\n",
    "    cog = float(input(\"Coğrafya  : \"))\n",
    "    kim = float(input(\"Kimya     : \"))\n",
    "    fiz = float(input(\"Fizik     : \"))\n",
    "    ort = (mat + ing + cog + kim + fiz) / 5\n",
    "    \n",
    "    if ort >= 90 and ((mat and ing and cog and kim and fiz) >= 85):\n",
    "        print(f\"Tebrikler {i} not ortalamanız : {ort} 'AA' ve Onur belgesini almaya hak kazandınız!\")\n",
    "    elif ort >= 90 and ((mat or ing or cog or kim or fiz) < 85):\n",
    "        print(f\"Tebrikler {i} not ortalamanız : {ort} 'AA' ancak Onur belgesi almaya hak kazanamadınız!\")\n",
    "    elif ort >= 80 and ort < 90 and ((mat and ing and cog and kim and fiz) >= 75):\n",
    "        print(f\"Tebrikler {i} not ortalamanız : {ort} 'AB' ve 1000 €'luk hediye çeki kazandınız.!\")\n",
    "    elif ort >= 70 and ort < 80 and ((mat and ing and cog and kim and fiz) >= 70):\n",
    "        print(f\"Tebrikler {i} not ortalamanız : {ort} 'BB' ve 500 €'luk hediye çeki kazandınız.!\")\n",
    "    elif ort >= 60 and ort < 70:\n",
    "        print(f\"Merhaba {i} not ortalamanız : {ort} 'BC' \")\n",
    "    elif ort >= 50 and ort < 60:\n",
    "        print(f\"Merhaba {i} not ortalamanız : {ort} 'CC' \")\n",
    "    elif ort >= 40 and ort < 50:\n",
    "        print(f\"Merhaba {i} not ortalamanız : {ort} 'DD' \")\n",
    "    else:\n",
    "        print(f\"Merhaba {i} not ortalamanız : {ort} 'FF': Sınıf Tekrarı!!! \")\n",
    "        \n",
    "    öğr_dict.update({i : ort})\n",
    "print(\"\\n\\n\")\n",
    "print(\"Dönem sonu öğrenci listesi::\", öğr_dict)"
   ]
  },
  {
   "cell_type": "code",
   "execution_count": null,
   "id": "2cb4f234",
   "metadata": {},
   "outputs": [],
   "source": []
  }
 ],
 "metadata": {
  "kernelspec": {
   "display_name": "Python 3",
   "language": "python",
   "name": "python3"
  },
  "language_info": {
   "codemirror_mode": {
    "name": "ipython",
    "version": 3
   },
   "file_extension": ".py",
   "mimetype": "text/x-python",
   "name": "python",
   "nbconvert_exporter": "python",
   "pygments_lexer": "ipython3",
   "version": "3.8.8"
  }
 },
 "nbformat": 4,
 "nbformat_minor": 5
}
