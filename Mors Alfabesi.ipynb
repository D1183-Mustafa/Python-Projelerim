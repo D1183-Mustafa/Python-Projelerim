{
 "cells": [
  {
   "cell_type": "code",
   "execution_count": 11,
   "id": "26eaeb02",
   "metadata": {},
   "outputs": [
    {
     "name": "stdout",
     "output_type": "stream",
     "text": [
      "Lütfen giriniz : Mustafa Altaş\n",
      "-- ..- ... - .- ..-. .- /.- .-.. - .- .--.. \n"
     ]
    }
   ],
   "source": [
    "mors_alf = {\"a\" : \".- \", \"b\" : \"-... \", \"c\" : \"-.-. \", \"ç\" : \"-.-.. \", \"d\" : \"-.. \",\\\n",
    "            \"e\" : \". \", \"f\" : \"..-. \", \"g\" : \"--. \", \"h\" : \".... \", \"ı\" : \".. \", \"i\" : \".-..- \",\\\n",
    "            \"j\" : \".--- \", \"k\" : \"-.- \", \"l\" : \".-.. \", \"m\" : \"-- \", \"n\" : \"-. \", \"o\" : \"--- \",\\\n",
    "            \"p\" : \".--. \", \"q\" : \"--.- \", \"r\" : \".-. \", \"s\" : \"... \", \"t\" : \"- \", \"u\" : \"..- \",\\\n",
    "            \"v\" : \"...- \", \"w\" : \".-- \", \"x\" : \"-..- \", \"y\" : \"-.-- \", \"z\" : \"--.. \", \"ğ\" : \"--.-. \",\\\n",
    "            \"ö\" : \"---. \", \"ş\" : \".--.. \", \"ü\" : \"..-- \", 0 : \"----- \", 1 : \".---- \", 2 : \"..--- \",\\\n",
    "            3 : \"...-- \", 4 : \"....- \", 5 : \"..... \", 6 : \"-.... \", 7 : \"--... \", 8 : \"---.. \", 9 : \"----. \",\\\n",
    "            \" \" : \"/\"}\n",
    "\n",
    "girdi = input(\"Lütfen giriniz : \").lower()\n",
    "çıktı = \"\"\n",
    "for i in girdi:\n",
    "    çıktı += mors_alf[i]\n",
    "print(çıktı)"
   ]
  },
  {
   "cell_type": "code",
   "execution_count": null,
   "id": "af26c367",
   "metadata": {},
   "outputs": [],
   "source": []
  }
 ],
 "metadata": {
  "kernelspec": {
   "display_name": "Python 3",
   "language": "python",
   "name": "python3"
  },
  "language_info": {
   "codemirror_mode": {
    "name": "ipython",
    "version": 3
   },
   "file_extension": ".py",
   "mimetype": "text/x-python",
   "name": "python",
   "nbconvert_exporter": "python",
   "pygments_lexer": "ipython3",
   "version": "3.8.8"
  }
 },
 "nbformat": 4,
 "nbformat_minor": 5
}
